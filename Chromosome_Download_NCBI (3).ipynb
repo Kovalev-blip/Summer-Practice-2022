{
 "cells": [
  {
   "cell_type": "code",
   "execution_count": null,
   "metadata": {},
   "outputs": [],
   "source": [
    "# Скачиваем из NCBI последовательности всех хромосом человека, а также митохондриальной ДНК"
   ]
  },
  {
   "cell_type": "code",
   "execution_count": 2,
   "metadata": {},
   "outputs": [
    {
     "name": "stdout",
     "output_type": "stream",
     "text": [
      "Defaulting to user installation because normal site-packages is not writeable\n",
      "Requirement already satisfied: biopython in /opt/miniconda3/envs/moldyn/lib/python3.7/site-packages (1.76)\n",
      "Requirement already satisfied: numpy in /opt/miniconda3/envs/moldyn/lib/python3.7/site-packages (from biopython) (1.17.3)\n",
      "Defaulting to user installation because normal site-packages is not writeable\n",
      "Requirement already satisfied: dna-features-viewer in ./.local/lib/python3.7/site-packages (3.1.1)\n",
      "Requirement already satisfied: packaging in /opt/miniconda3/envs/moldyn/lib/python3.7/site-packages (from dna-features-viewer) (20.9)\n",
      "Requirement already satisfied: matplotlib>=3 in /opt/miniconda3/envs/moldyn/lib/python3.7/site-packages (from dna-features-viewer) (3.1.3)\n",
      "Requirement already satisfied: Biopython in /opt/miniconda3/envs/moldyn/lib/python3.7/site-packages (from dna-features-viewer) (1.76)\n",
      "Requirement already satisfied: pyparsing>=2.0.2 in /opt/miniconda3/envs/moldyn/lib/python3.7/site-packages (from packaging->dna-features-viewer) (2.4.6)\n",
      "Requirement already satisfied: kiwisolver>=1.0.1 in /opt/miniconda3/envs/moldyn/lib/python3.7/site-packages (from matplotlib>=3->dna-features-viewer) (1.1.0)\n",
      "Requirement already satisfied: numpy>=1.11 in /opt/miniconda3/envs/moldyn/lib/python3.7/site-packages (from matplotlib>=3->dna-features-viewer) (1.17.3)\n",
      "Requirement already satisfied: cycler>=0.10 in /opt/miniconda3/envs/moldyn/lib/python3.7/site-packages (from matplotlib>=3->dna-features-viewer) (0.10.0)\n",
      "Requirement already satisfied: python-dateutil>=2.1 in /opt/miniconda3/envs/moldyn/lib/python3.7/site-packages (from matplotlib>=3->dna-features-viewer) (2.8.1)\n",
      "Requirement already satisfied: setuptools in /opt/miniconda3/envs/moldyn/lib/python3.7/site-packages (from kiwisolver>=1.0.1->matplotlib>=3->dna-features-viewer) (46.0.0.post20200309)\n",
      "Requirement already satisfied: six in /opt/miniconda3/envs/moldyn/lib/python3.7/site-packages (from cycler>=0.10->matplotlib>=3->dna-features-viewer) (1.14.0)\n",
      "Defaulting to user installation because normal site-packages is not writeable\n",
      "Requirement already satisfied: pybiomart in ./.local/lib/python3.7/site-packages (0.2.0)\n",
      "Requirement already satisfied: requests in /opt/miniconda3/envs/moldyn/lib/python3.7/site-packages (from pybiomart) (2.23.0)\n",
      "Requirement already satisfied: future in /opt/miniconda3/envs/moldyn/lib/python3.7/site-packages (from pybiomart) (0.18.2)\n",
      "Requirement already satisfied: pandas in /opt/miniconda3/envs/moldyn/lib/python3.7/site-packages (from pybiomart) (1.0.1)\n",
      "Requirement already satisfied: requests-cache in ./.local/lib/python3.7/site-packages (from pybiomart) (0.9.5)\n",
      "Requirement already satisfied: certifi>=2017.4.17 in /opt/miniconda3/envs/moldyn/lib/python3.7/site-packages (from requests->pybiomart) (2021.10.8)\n",
      "Requirement already satisfied: chardet<4,>=3.0.2 in /opt/miniconda3/envs/moldyn/lib/python3.7/site-packages (from requests->pybiomart) (3.0.4)\n",
      "Requirement already satisfied: idna<3,>=2.5 in /opt/miniconda3/envs/moldyn/lib/python3.7/site-packages (from requests->pybiomart) (2.8)\n",
      "Requirement already satisfied: urllib3!=1.25.0,!=1.25.1,<1.26,>=1.21.1 in /opt/miniconda3/envs/moldyn/lib/python3.7/site-packages (from requests->pybiomart) (1.25.8)\n",
      "Requirement already satisfied: python-dateutil>=2.6.1 in /opt/miniconda3/envs/moldyn/lib/python3.7/site-packages (from pandas->pybiomart) (2.8.1)\n",
      "Requirement already satisfied: pytz>=2017.2 in /opt/miniconda3/envs/moldyn/lib/python3.7/site-packages (from pandas->pybiomart) (2019.3)\n",
      "Requirement already satisfied: numpy>=1.13.3 in /opt/miniconda3/envs/moldyn/lib/python3.7/site-packages (from pandas->pybiomart) (1.17.3)\n",
      "Requirement already satisfied: attrs<22.0,>=21.2 in ./.local/lib/python3.7/site-packages (from requests-cache->pybiomart) (21.4.0)\n",
      "Requirement already satisfied: url-normalize<2.0,>=1.4 in ./.local/lib/python3.7/site-packages (from requests-cache->pybiomart) (1.4.3)\n",
      "Requirement already satisfied: cattrs<=22.2,>=1.8 in ./.local/lib/python3.7/site-packages (from requests-cache->pybiomart) (22.1.0)\n",
      "Requirement already satisfied: appdirs<2.0.0,>=1.4.4 in ./.local/lib/python3.7/site-packages (from requests-cache->pybiomart) (1.4.4)\n",
      "Requirement already satisfied: six>=1.5 in /opt/miniconda3/envs/moldyn/lib/python3.7/site-packages (from python-dateutil>=2.6.1->pandas->pybiomart) (1.14.0)\n",
      "Requirement already satisfied: exceptiongroup; python_version <= \"3.10\" in ./.local/lib/python3.7/site-packages (from cattrs<=22.2,>=1.8->requests-cache->pybiomart) (1.0.0rc8)\n",
      "Requirement already satisfied: typing_extensions; python_version >= \"3.7\" and python_version < \"3.8\" in /opt/miniconda3/envs/moldyn/lib/python3.7/site-packages (from cattrs<=22.2,>=1.8->requests-cache->pybiomart) (4.0.1)\n"
     ]
    }
   ],
   "source": [
    "!pip install biopython\n",
    "!pip install dna-features-viewer  # отрисовка красивых фич на сиквенсе, не обязательно\n",
    "!pip install pybiomart"
   ]
  },
  {
   "cell_type": "code",
   "execution_count": 3,
   "metadata": {},
   "outputs": [],
   "source": [
    "import Bio\n",
    "from Bio import SeqIO\n",
    "from Bio import Entrez\n",
    "from Bio.Seq import Seq\n",
    "from Bio.SeqRecord import SeqRecord\n",
    "from Bio import Phylo\n",
    "import io"
   ]
  },
  {
   "cell_type": "code",
   "execution_count": 4,
   "metadata": {
    "colab": {
     "base_uri": "https://localhost:8080/"
    },
    "id": "SsTzt2D9EaJ8",
    "outputId": "1ccef6e8-35e9-4f89-b9a1-2bcc8ca41a5b"
   },
   "outputs": [
    {
     "name": "stderr",
     "output_type": "stream",
     "text": [
      "/opt/miniconda3/envs/moldyn/lib/python3.7/site-packages/Bio/Entrez/__init__.py:631: UserWarning: \n",
      "Email address is not specified.\n",
      "\n",
      "To make use of NCBI's E-utilities, NCBI requires you to specify your\n",
      "email address with each request.  As an example, if your email address\n",
      "is A.N.Other@example.com, you can specify it as follows:\n",
      "   from Bio import Entrez\n",
      "   Entrez.email = 'A.N.Other@example.com'\n",
      "In case of excessive usage of the E-utilities, NCBI will attempt to contact\n",
      "a user at the email address provided before blocking access to the\n",
      "E-utilities.\n",
      "  UserWarning,\n"
     ]
    }
   ],
   "source": [
    "handle = Entrez.efetch(db=\"nucleotide\", id=\"NC_000001.11\", rettype=\"fasta\", retmode=\"text\")\n",
    "record = SeqIO.parse(handle, \"fasta\")\n",
    "with open('HsChrI.fasta', 'w') as f:\n",
    "    SeqIO.write(record, f, 'fasta')\n",
    "\n",
    "\n",
    "   "
   ]
  },
  {
   "cell_type": "code",
   "execution_count": 18,
   "metadata": {},
   "outputs": [],
   "source": [
    "handle = Entrez.efetch(db=\"nucleotide\", id=\"NC_000002.12\", rettype=\"fasta\", retmode=\"text\")\n",
    "record = SeqIO.parse(handle, \"fasta\")\n",
    "with open('HsChrII.fasta', 'w') as f:\n",
    "    SeqIO.write(record, f, 'fasta')\n"
   ]
  },
  {
   "cell_type": "code",
   "execution_count": 19,
   "metadata": {},
   "outputs": [],
   "source": [
    "handle = Entrez.efetch(db=\"nucleotide\", id=\"NC_000003.12\", rettype=\"fasta\", retmode=\"text\")\n",
    "record = SeqIO.parse(handle, \"fasta\")\n",
    "with open('HsChrIII.fasta', 'w') as f:\n",
    "    SeqIO.write(record, f, 'fasta')"
   ]
  },
  {
   "cell_type": "code",
   "execution_count": 20,
   "metadata": {},
   "outputs": [],
   "source": [
    "handle = Entrez.efetch(db=\"nucleotide\", id=\"NC_000004.12\", rettype=\"fasta\", retmode=\"text\")\n",
    "record = SeqIO.parse(handle, \"fasta\")\n",
    "with open('HsChrIV.fasta', 'w') as f:\n",
    "    SeqIO.write(record, f, 'fasta')"
   ]
  },
  {
   "cell_type": "code",
   "execution_count": 21,
   "metadata": {},
   "outputs": [],
   "source": [
    "handle = Entrez.efetch(db=\"nucleotide\", id=\"NC_000005.10\", rettype=\"fasta\", retmode=\"text\")\n",
    "record = SeqIO.parse(handle, \"fasta\")\n",
    "with open('HsChrV.fasta', 'w') as f:\n",
    "    SeqIO.write(record, f, 'fasta')"
   ]
  },
  {
   "cell_type": "code",
   "execution_count": 22,
   "metadata": {},
   "outputs": [],
   "source": [
    "handle = Entrez.efetch(db=\"nucleotide\", id=\"NC_000006.12\", rettype=\"fasta\", retmode=\"text\")\n",
    "record = SeqIO.parse(handle, \"fasta\")\n",
    "with open('HsChrVI.fasta', 'w') as f:\n",
    "    SeqIO.write(record, f, 'fasta')"
   ]
  },
  {
   "cell_type": "code",
   "execution_count": 23,
   "metadata": {},
   "outputs": [],
   "source": [
    "handle = Entrez.efetch(db=\"nucleotide\", id=\"NC_000007.14\", rettype=\"fasta\", retmode=\"text\")\n",
    "record = SeqIO.parse(handle, \"fasta\")\n",
    "with open('HsChrVII.fasta', 'w') as f:\n",
    "    SeqIO.write(record, f, 'fasta')"
   ]
  },
  {
   "cell_type": "code",
   "execution_count": 24,
   "metadata": {},
   "outputs": [],
   "source": [
    "handle = Entrez.efetch(db=\"nucleotide\", id=\"NC_000008.11\", rettype=\"fasta\", retmode=\"text\")\n",
    "record = SeqIO.parse(handle, \"fasta\")\n",
    "with open('HsChrVIII.fasta', 'w') as f:\n",
    "    SeqIO.write(record, f, 'fasta')"
   ]
  },
  {
   "cell_type": "code",
   "execution_count": 25,
   "metadata": {},
   "outputs": [],
   "source": [
    "handle = Entrez.efetch(db=\"nucleotide\", id=\"NC_000009.12\", rettype=\"fasta\", retmode=\"text\")\n",
    "record = SeqIO.parse(handle, \"fasta\")\n",
    "with open('HsChrXI.fasta', 'w') as f:\n",
    "    SeqIO.write(record, f, 'fasta')"
   ]
  },
  {
   "cell_type": "code",
   "execution_count": 26,
   "metadata": {},
   "outputs": [],
   "source": [
    "handle = Entrez.efetch(db=\"nucleotide\", id=\"NC_000010.11\", rettype=\"fasta\", retmode=\"text\")\n",
    "record = SeqIO.parse(handle, \"fasta\")\n",
    "with open('HsChrX.fasta', 'w') as f:\n",
    "    SeqIO.write(record, f, 'fasta')"
   ]
  },
  {
   "cell_type": "code",
   "execution_count": 27,
   "metadata": {},
   "outputs": [],
   "source": [
    "handle = Entrez.efetch(db=\"nucleotide\", id=\"NC_000011.10\", rettype=\"fasta\", retmode=\"text\")\n",
    "record = SeqIO.parse(handle, \"fasta\")\n",
    "with open('HsChrXI.fasta', 'w') as f:\n",
    "    SeqIO.write(record, f, 'fasta')"
   ]
  },
  {
   "cell_type": "code",
   "execution_count": 29,
   "metadata": {},
   "outputs": [],
   "source": [
    "handle = Entrez.efetch(db=\"nucleotide\", id=\"NC_000012.12\", rettype=\"fasta\", retmode=\"text\")\n",
    "record = SeqIO.parse(handle, \"fasta\")\n",
    "with open('HsChrXII.fasta', 'w') as f:\n",
    "    SeqIO.write(record, f, 'fasta')"
   ]
  },
  {
   "cell_type": "code",
   "execution_count": 28,
   "metadata": {},
   "outputs": [],
   "source": [
    "handle = Entrez.efetch(db=\"nucleotide\", id=\"NC_000013.11\", rettype=\"fasta\", retmode=\"text\")\n",
    "record = SeqIO.parse(handle, \"fasta\")\n",
    "with open('HsChrXIII.fasta', 'w') as f:\n",
    "    SeqIO.write(record, f, 'fasta')"
   ]
  },
  {
   "cell_type": "code",
   "execution_count": 30,
   "metadata": {},
   "outputs": [],
   "source": [
    "handle = Entrez.efetch(db=\"nucleotide\", id=\"NC_000014.9\", rettype=\"fasta\", retmode=\"text\")\n",
    "record = SeqIO.parse(handle, \"fasta\")\n",
    "with open('HsChrXIV.fasta', 'w') as f:\n",
    "    SeqIO.write(record, f, 'fasta')"
   ]
  },
  {
   "cell_type": "code",
   "execution_count": 31,
   "metadata": {},
   "outputs": [],
   "source": [
    "handle = Entrez.efetch(db=\"nucleotide\", id=\"NC_000015.10\", rettype=\"fasta\", retmode=\"text\")\n",
    "record = SeqIO.parse(handle, \"fasta\")\n",
    "with open('HsChrXV.fasta', 'w') as f:\n",
    "    SeqIO.write(record, f, 'fasta')"
   ]
  },
  {
   "cell_type": "code",
   "execution_count": 32,
   "metadata": {},
   "outputs": [],
   "source": [
    "handle = Entrez.efetch(db=\"nucleotide\", id=\"NC_000016.10\", rettype=\"fasta\", retmode=\"text\")\n",
    "record = SeqIO.parse(handle, \"fasta\")\n",
    "with open('HsChrXVI.fasta', 'w') as f:\n",
    "    SeqIO.write(record, f, 'fasta')"
   ]
  },
  {
   "cell_type": "code",
   "execution_count": 33,
   "metadata": {},
   "outputs": [],
   "source": [
    "handle = Entrez.efetch(db=\"nucleotide\", id=\"NC_000017.11\", rettype=\"fasta\", retmode=\"text\")\n",
    "record = SeqIO.parse(handle, \"fasta\")\n",
    "with open('HsChrXVII.fasta', 'w') as f:\n",
    "    SeqIO.write(record, f, 'fasta')"
   ]
  },
  {
   "cell_type": "code",
   "execution_count": 34,
   "metadata": {},
   "outputs": [],
   "source": [
    "handle = Entrez.efetch(db=\"nucleotide\", id=\"NC_000018.10\", rettype=\"fasta\", retmode=\"text\")\n",
    "record = SeqIO.parse(handle, \"fasta\")\n",
    "with open('HsChrXVIII.fasta', 'w') as f:\n",
    "    SeqIO.write(record, f, 'fasta')"
   ]
  },
  {
   "cell_type": "code",
   "execution_count": 35,
   "metadata": {},
   "outputs": [],
   "source": [
    "handle = Entrez.efetch(db=\"nucleotide\", id=\"NC_000019.10\", rettype=\"fasta\", retmode=\"text\")\n",
    "record = SeqIO.parse(handle, \"fasta\")\n",
    "with open('HsChrXIX.fasta', 'w') as f:\n",
    "    SeqIO.write(record, f, 'fasta')"
   ]
  },
  {
   "cell_type": "code",
   "execution_count": 36,
   "metadata": {},
   "outputs": [],
   "source": [
    "handle = Entrez.efetch(db=\"nucleotide\", id=\"NC_000020.11\", rettype=\"fasta\", retmode=\"text\")\n",
    "record = SeqIO.parse(handle, \"fasta\")\n",
    "with open('HsChrXX.fasta', 'w') as f:\n",
    "    SeqIO.write(record, f, 'fasta')"
   ]
  },
  {
   "cell_type": "code",
   "execution_count": 37,
   "metadata": {},
   "outputs": [],
   "source": [
    "handle = Entrez.efetch(db=\"nucleotide\", id=\"NC_000021.9\", rettype=\"fasta\", retmode=\"text\")\n",
    "record = SeqIO.parse(handle, \"fasta\")\n",
    "with open('HsChrXXI.fasta', 'w') as f:\n",
    "    SeqIO.write(record, f, 'fasta')"
   ]
  },
  {
   "cell_type": "code",
   "execution_count": 38,
   "metadata": {},
   "outputs": [],
   "source": [
    "handle = Entrez.efetch(db=\"nucleotide\", id=\"NC_000022.11\", rettype=\"fasta\", retmode=\"text\")\n",
    "record = SeqIO.parse(handle, \"fasta\")\n",
    "with open('HsChrXXII.fasta', 'w') as f:\n",
    "    SeqIO.write(record, f, 'fasta')"
   ]
  },
  {
   "cell_type": "code",
   "execution_count": 39,
   "metadata": {},
   "outputs": [],
   "source": [
    "handle = Entrez.efetch(db=\"nucleotide\", id=\"NC_000023.11\", rettype=\"fasta\", retmode=\"text\")\n",
    "record = SeqIO.parse(handle, \"fasta\")\n",
    "with open('HsChr_X.fasta', 'w') as f:\n",
    "    SeqIO.write(record, f, 'fasta')"
   ]
  },
  {
   "cell_type": "code",
   "execution_count": 40,
   "metadata": {},
   "outputs": [],
   "source": [
    "handle = Entrez.efetch(db=\"nucleotide\", id=\"NC_000024.10\", rettype=\"fasta\", retmode=\"text\")\n",
    "record = SeqIO.parse(handle, \"fasta\")\n",
    "with open('HsChr_Y.fasta', 'w') as f:\n",
    "    SeqIO.write(record, f, 'fasta')"
   ]
  },
  {
   "cell_type": "code",
   "execution_count": 41,
   "metadata": {},
   "outputs": [],
   "source": [
    "handle = Entrez.efetch(db=\"nucleotide\", id=\"NC_012920.1\", rettype=\"fasta\", retmode=\"text\")\n",
    "record = SeqIO.parse(handle, \"fasta\")\n",
    "with open('HsChr_MT.fasta', 'w') as f:\n",
    "    SeqIO.write(record, f, 'fasta')"
   ]
  }
 ],
 "metadata": {
  "kernelspec": {
   "display_name": "Python [conda env:moldyn]",
   "language": "python",
   "name": "conda-env-moldyn-py"
  },
  "language_info": {
   "codemirror_mode": {
    "name": "ipython",
    "version": 3
   },
   "file_extension": ".py",
   "mimetype": "text/x-python",
   "name": "python",
   "nbconvert_exporter": "python",
   "pygments_lexer": "ipython3",
   "version": "3.7.3"
  }
 },
 "nbformat": 4,
 "nbformat_minor": 4
}
